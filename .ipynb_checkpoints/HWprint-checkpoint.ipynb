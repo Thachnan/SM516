{
 "cells": [
  {
   "cell_type": "markdown",
   "metadata": {},
   "source": [
    "# การบ้าน ฟังก์ชัน print ในภาษา Python"
   ]
  },
  {
   "cell_type": "markdown",
   "metadata": {},
   "source": [
    "ภาษา Python เมื่อต้องการแสดงข้อมูลออกทางหน้าจอ จะใช้ฟังก์ชัน print() พร้อมระบุข้อมูลที่ต้องการแสดง เช่น print(ข้อมูลที่ต้องการแสดง) หรือ\n",
    "print(ข้อมูล, ข้อมูล, ข้อมูล, …) โดยมีรายละเอียดที่ควรรู้ดังนี้\n",
    "\n",
    "ข้อมูลที่จะแสดงด้วยฟังก์ชัน print() ถ้าเป็นสตริง (ข้อความ) ให้เขียนไว้ในเครื่องหมาย ” ” หรือ ‘ ‘\n",
    "\n",
    "ข้อมูลที่จะแสดงด้วยฟังก์ชัน print() ถ้าเป็นตัวเลข สามารถเขียนลงไปได้โดยตรงเลย\n",
    "ถ้าจะแสดงค่าจากตัวแปร ไม่ว่าตัวแปรนั้นจะเก็บข้อมูลชนิดใดก็ตาม สามารถเขียนตัวแปรลงไปได้โดยตรง\n",
    "\n",
    "เมื่อใช้ฟังก์ชัน print() หลังจากแสดงข้อความแล้วจะขึ้นบรรทัดใหม่โดยอัตโนมัติ\n",
    "\n",
    "การใช้ฟังก์ชัน print() แสดงข้อมูลหลายค่าในครั้งเดียว จะเป็นการแสดงข้อมูลเหล่านั้นในบรรทัดเดียวกัน"
   ]
  },
  {
   "cell_type": "markdown",
   "metadata": {},
   "source": [
    "print(ตัวแปรหรือข้อมูล)  // ตัวอย่างเช่น"
   ]
  },
  {
   "cell_type": "code",
   "execution_count": 5,
   "metadata": {},
   "outputs": [
    {
     "name": "stdout",
     "output_type": "stream",
     "text": [
      "1 2 3\n"
     ]
    }
   ],
   "source": [
    "print(1,2,3)  #ผลลัพธ์ 1 2 3"
   ]
  },
  {
   "cell_type": "code",
   "execution_count": 6,
   "metadata": {},
   "outputs": [
    {
     "name": "stdout",
     "output_type": "stream",
     "text": [
      "KANGDANIEL\n"
     ]
    }
   ],
   "source": [
    "a = \"KANGDANIEL\"    #ผลลัพธ์ KANGDANIEL\n",
    "print(a)"
   ]
  },
  {
   "cell_type": "code",
   "execution_count": 9,
   "metadata": {},
   "outputs": [
    {
     "name": "stdout",
     "output_type": "stream",
     "text": [
      "Hello My name is KANG DANIEL\n"
     ]
    }
   ],
   "source": [
    "name = 'KANG'\n",
    "sirname = 'DANIEL'\n",
    "print('Hello', 'My name is', name, sirname)    #ผลลัพธ์ : Hello My name is KANG DANIEL"
   ]
  },
  {
   "cell_type": "markdown",
   "metadata": {},
   "source": [
    "### ฟังก์ชัน printf()"
   ]
  },
  {
   "cell_type": "markdown",
   "metadata": {},
   "source": [
    "ฟังก์ชันนี้เราได้ทดลองใช้อย่างง่ายๆ มาแล้ว โดยใช้สําหรับแสดงข้อความหรือตัวแปรฟังก์ชั่น printf() มีชื่อเต็มว่า print format เป็นฟังก์ชั่นที่ใช้พิมพ์ข้อความต่างๆ ออก จอภาพโดยมีรูปแบบดังนี้\n",
    "\n",
    "รูปแบบ <br>\n",
    "printf (\"ข้อความ\")                                 หรือ <br>\n",
    "printf (\"รหัสควบคุมรูปแบบ”, ตัวแปร)                  หรือ  <br>\n",
    "printf('control string\", variable list....);\n"
   ]
  },
  {
   "cell_type": "markdown",
   "metadata": {},
   "source": [
    "โดยค่าที่ส่งเข้าไปในฟังก์ชันจะมีสองส่วน ส่วนแรกเรียกว่าสตริงฟอร์แมต เป็นส่วนที่ใช้ ควบคุมลักษณะการแสดงผล และส่วนที่สองหมายถึงค่าคงที่ หรือตัวแปรที่จะให้แสดงผล โดย ฟังก์ชัน print จะพิมพ์ค่าที่อยู่ในตัวแปรในส่วนของ variable list ตรงตําแหน่ง Control String ภายในสตริงฟอร์แมต"
   ]
  },
  {
   "cell_type": "markdown",
   "metadata": {},
   "source": [
    "#### รหัสแบ็กสแลช (backslash) ซึ่ง หลายรูปแบบดังนี้"
   ]
  },
  {
   "cell_type": "markdown",
   "metadata": {},
   "source": [
    "รหัส          ผลที่ได้  <br>\n",
    "\\n          $\\rightarrow$    ให้ขึ้นบรรทัดใหม่ <br>\n",
    "\\t          $\\rightarrow$     ให้เว้น tab เป็นระยะ 8 ช่วง <br>\n",
    "\\xhh        $\\rightarrow$ แสดงตัวอักษรเมื่อ hh เป็นเลขฐานสิบหก <br>\n",
    "\\a          $\\rightarrow$    ส่งเสียงบีป<br>\n",
    "\\\\          $\\rightarrow$     เครื่องหมาย Backslash "
   ]
  },
  {
   "cell_type": "markdown",
   "metadata": {},
   "source": [
    "#### เครื่องหมาย % นี้เรียกว่า format specification ซึ่งมีใช้หลายรูปแบบดังนี้"
   ]
  },
  {
   "cell_type": "markdown",
   "metadata": {},
   "source": [
    "เครื่องหมาย          การใช้งาน  <br>\n",
    "    %d      $\\rightarrow$           ให้พิมพ์รูปแบบเลขจํานวนเต็มฐานสิบ <br>\n",
    "    %u      $\\rightarrow$           ให้พิมพ์รูปแบบเลขจํานวนเต็มไม่มีเครื่องหมาย  <br>\n",
    "    %f      $\\rightarrow$            ให้พิมพ์รูปแบบเลขทศนิยม  <br>\n",
    "    %e      $\\rightarrow$           ให้พิมพ์เลขจํานวนจริงในรูปเลขยกกําลัง  <br>\n",
    "    %c      $\\rightarrow$           ให้พิมพ์ตัวอักษรตัวเดียว (Char)  <br>\n",
    "    %s      $\\rightarrow$           ให้พิมพ์ชุดตัวอักษร (string) หรือข้อความ  <br>\n",
    "    %%      $\\rightarrow$           ให้พิมพ์เครื่องหมาย %  <br>\n",
    "    %o      $\\rightarrow$             ให้พิมพ์เลขฐานแปด  <br>\n",
    "    %x      $\\rightarrow$            ให้พิมพ์เลขฐานสิบหก  <br>"
   ]
  },
  {
   "cell_type": "markdown",
   "metadata": {},
   "source": [
    "#### ในการเขียนคําสั่ง printf หนึ่งบรรทัด เราสามารถให้พิมพ์ตัวอักษรหลายๆ รูปแบบได้ ดังเช่น คําสั่งต่อไปนี้"
   ]
  },
  {
   "cell_type": "markdown",
   "metadata": {},
   "source": [
    "printf (%S %d %f %C \\n\",\"Sam\", 14, 8.76, X);"
   ]
  },
  {
   "cell_type": "markdown",
   "metadata": {},
   "source": [
    " จะเห็นว่าคําสั่งนี้มี Control String หลายรูปแบบ และมี variable list หลายตัว ถ้าเป็น สตริงจะอยู่ในเครื่องหมาย \" \" ถ้าเป็นตัวอักษรจะอยู่ในเครื่องหมาย \" \" สําหรับค่า variable list จะต้องเรียกตามลําดับที่กําหนดใน Control string ผลลัพธ์จากการทําคําสั่งจะเป็นดังนี้ <br>\n",
    " Sam 14 -8.760000 X"
   ]
  },
  {
   "cell_type": "markdown",
   "metadata": {},
   "source": [
    "จะสังเกตเห็นว่าในการพิมพ์เลขทศนิยม (%f) ข้อมูลที่ใส่ไปคือ -8.76 แต่ผลลัพธ์ที่ได้ จะได้ทศนิยมหลายตําแหน่ง คําสั่ง printfi สามารถระบุจํานวนเลขทศนิยมได้ โดยใส่จํานวนทศนิยม และเครื่องหมายจุด ( . ) ระหว่าง % และ f ดังตัวอย่างคําสั่งต่อไปนี้"
   ]
  },
  {
   "cell_type": "markdown",
   "metadata": {},
   "source": [
    "printf (\"%f %.3f 6.2 %.1f\",4.5678,4.5678,4.5678,45678);"
   ]
  },
  {
   "cell_type": "markdown",
   "metadata": {},
   "source": [
    "ผลลัพธ์ที่ได้จากการทําคําสั่งจะเป็นดังนี้\n",
    "\n",
    "4.567800 4.568 4.57 4.6"
   ]
  },
  {
   "cell_type": "markdown",
   "metadata": {},
   "source": [
    "###  ฟังก์ชัน scanf()"
   ]
  },
  {
   "cell_type": "markdown",
   "metadata": {},
   "source": [
    "   ฟังก์ชันนี้จะตรงข้ามกับฟังก์ชั่น printf() โดยจะใช้อ่านค่าจากการกดแป้นพิมพ์ที่อยู่ในรูป รหัส ASCll ไปเก็บในตัวแปรที่กําหนด และสามารถใช้เป็นรหัสควบคุมหรือ Control string ระบุชนิดของข้อมูลที่จะเก็บในตัวแปรได้ รูปแบบของคําสั่งเป็นดังนี้ <br>\n",
    "รูปแบบ <br>\n",
    "scanf( \"control string\", &variable list,....);   หรือ <br>\n",
    "scanf(\"รหัสรับข้อมูล\", ตัวแปรเก็บข้อมูล),"
   ]
  },
  {
   "cell_type": "markdown",
   "metadata": {},
   "source": [
    "โดยเครื่องหมาย & เป็นการชี้ไปที่แอดเดรสหน่วยความจําของตัวแปรที่กําหนดเพื่อให้เก็บ ข้อมูล สําหรับ Control string จะเป็นตัวบอกว่าจะให้เก็บข้อมูลในลักษณะใด ตัวอย่างเช่น<br>\n",
    "         int   num;   <br>\n",
    "         scanf(\"%d\", &num);    <br>"
   ]
  },
  {
   "cell_type": "markdown",
   "metadata": {},
   "source": [
    " เมื่อคอมพิวเตอร์ทําชุดคําสั่ง scanf จะรอรับข้อมูลจากแป้นพิมพ์ เมื่อเราใส่ข้อมูล และกด ปุ่ม <Enter> จะนําข้อมูลไปเก็บในตัวแปรชื่อ num ในรูปของเลขฐานสิบ เนื่องจาก control string เป็น %d สําหรับ Control string มีได้หลายตัวเช่นเดียวกับคําสั่ง printf()"
   ]
  },
  {
   "cell_type": "markdown",
   "metadata": {},
   "source": [
    "หากมองการทํางานของฟังก์ชัน printf ลึกๆ แล้ว จะพบว่าฟังก์ชันนี้จะนําข้อมูลที่ได้รับมา เปลี่ยนให้เป็นสตรีมเท็กซ์เพื่อนําไปแสดงออกทางจอภาพ ตัวอย่างเช่น ถ้าหากรับค่าตัวเลข 234 เข้ามา โปรแกรมจะเปลี่ยนเป็นรหัส ASCII ของตัวเลขสามตัวคือ '2' , '3' และ '4' จากนั้นส่งเป็นสตรีม เท็กซ์ออกไป เพื่อแสดงผลทางจอภาพ"
   ]
  },
  {
   "cell_type": "markdown",
   "metadata": {},
   "source": [
    "สําหรับฟังก์ชั่น Scan จะใช้รับสตรีมเท็กซ์เข้ามา จากนั้นเปลี่ยนให้เป็นข้อมูลตามที่ระบุไว้ ในรหัสรับข้อมูล ตัวอย่างเช่น ถ้าหากรับตัวอักขระเข้ามาห้าตัว คือ '2' , '3' , '4' ',' และ '2' เมื่อระบุรหัสรับข้อมูลไว้เป็น %f จะทําให้โปรแกรมเปลี่ยนสตรีมที่ได้เป็นเลขทศนิยม ซึ่งได้ผลดีพอ เป็น 234.2 นั้นเอง"
   ]
  },
  {
   "cell_type": "markdown",
   "metadata": {},
   "source": [
    "<p style=\"text-indent: 2.5em;\">ในตัวอย่าง เป็นการใช้งาน keyword อาร์กิวเมนต์ในการจัดรูปแบบการแสดงผล โดยอาร์กิวเมนต์sep เป็นตัวแบ่งการแสดงในแต่ละอาร์กิวเมนต์ และ end เป็นตัวแบ่งการแสดงผลในแต่ละบรรทัด โดยปกติฟังก์ชัน print() จะขึ้นบรรทัดใหม่ทุกครั้ง เราสามารถใช้อาร์กิวเมนต์นี้เพื่อเปลี่ยนเป็นอย่างอื่นได้"
   ]
  },
  {
   "cell_type": "markdown",
   "metadata": {},
   "source": [
    "<p style=\"text-indent: 2.5em;\">นอกจากนี้ฟังก์ชัน print() นั้นยังสามารถส่งพารามิเตอร์ในรูปแบบของ String Formatting ได้โดยการใช้รูปแบบการแปลงข้อมูล ที่คล้ายกับการจัดรูปแบบการแสดงผลในภาษา C นี่เป็นตัวอย่างการใช้งาน"
   ]
  },
  {
   "cell_type": "code",
   "execution_count": 5,
   "metadata": {},
   "outputs": [
    {
     "name": "stdout",
     "output_type": "stream",
     "text": [
      "Python language\n",
      "Version 3.600000\n",
      "123\n",
      "Python 3.600000 123\n"
     ]
    }
   ],
   "source": [
    "lang = \"Python\"\n",
    "version = 3.6\n",
    "print(\"%s language\" % lang)\n",
    "print(\"Version %f\" % version)\n",
    "print(\"%d\" % 123)\n",
    "print(\"%s %f %d\" % (lang, version, 123))"
   ]
  },
  {
   "cell_type": "markdown",
   "metadata": {},
   "source": [
    "<p style=\"text-indent: 2.5em;\">ในตัวอย่าง เป็นการจัดรูปแบบการแสดงผลของ String โดยการแทรกรูปแบบของการแสดงผลใน String literal ได้ เช่น %s สำหรับการแสดงผล String %f สำหรับการแสดงผล Float และ %d สำหรับการแสดงผล Integer"
   ]
  },
  {
   "cell_type": "markdown",
   "metadata": {},
   "source": [
    "<p style=\"text-indent: 2.5em;\">เพราะว่าภาษา Python นั้นสามารถใช้กับการพัฒนาเว็บโดยสร้าง response ในรูปแบบ HTML หรือกำหนด Content type ประเภทต่างๆ ได้ ดังนั้นเราจึงสามารถใช้ฟังก์ชันนี้สำหรับการแสดงผลได้ อย่างไรก็ตามคุณต้องรันโค้ดนี้บนเว็บบราวน์เซอร์เพื่อดูผลลัพธ์ ไม่เช่นนั้นคำสั่งจะแสดงผลโค้ดของ HTML เหมือนที่เราเขียนลงในฟังก์ชันหากใช้แสดงบน Console นี่เป็นตัวอย่างการสร้างหน้าเว็บอย่างง่ายด้วยภาษา Python"
   ]
  },
  {
   "cell_type": "code",
   "execution_count": 7,
   "metadata": {},
   "outputs": [
    {
     "name": "stdout",
     "output_type": "stream",
     "text": [
      "<!DOCTYPE html>\n",
      "<html>\n",
      "<body>\n",
      "<h1>Welcome to Python tutorial on marcuscode.com</h1>\n",
      "</body>\n",
      "</html>\n"
     ]
    }
   ],
   "source": [
    "print('<!DOCTYPE html>');\n",
    "print('<html>');\n",
    "print('<body>');\n",
    "print('<h1>Welcome to Python tutorial on marcuscode.com</h1>');\n",
    "print('</body>');\n",
    "print('</html>');"
   ]
  },
  {
   "cell_type": "code",
   "execution_count": null,
   "metadata": {},
   "outputs": [],
   "source": []
  }
 ],
 "metadata": {
  "kernelspec": {
   "display_name": "Python 3",
   "language": "python",
   "name": "python3"
  },
  "language_info": {
   "codemirror_mode": {
    "name": "ipython",
    "version": 3
   },
   "file_extension": ".py",
   "mimetype": "text/x-python",
   "name": "python",
   "nbconvert_exporter": "python",
   "pygments_lexer": "ipython3",
   "version": "3.8.1"
  }
 },
 "nbformat": 4,
 "nbformat_minor": 2
}
