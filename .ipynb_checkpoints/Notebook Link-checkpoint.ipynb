{
 "cells": [
  {
   "cell_type": "markdown",
   "metadata": {},
   "source": [
    "# รวบรวม Python Notebooks"
   ]
  },
  {
   "cell_type": "markdown",
   "metadata": {
    "slideshow": {
     "slide_type": "subslide"
    }
   },
   "source": [
    "## Books"
   ]
  },
  {
   "cell_type": "markdown",
   "metadata": {},
   "source": [
    "* [Kiusalaas's Numerical Methods Engineering](https://www.cambridge.org/th/acdemic/subjects/engineering/engineering-mathematics-and-programming/numerical-methods-engineering-python-3-3rd-edition)\n",
    "* [Mark Lutz Workbook](https://learning-python.com/class/Workbook/)\n",
    "* [Moore's Python GUI Programming with Tkinter](https://github.com/PacktPublishing/Python-GUI-Programming-with-Tkinter)"
   ]
  },
  {
   "cell_type": "markdown",
   "metadata": {},
   "source": [
    "## Facebook Pages"
   ]
  },
  {
   "cell_type": "markdown",
   "metadata": {},
   "source": [
    "* [Python Programming](https://www.facebook.com/Pythontutorial4u/)\n",
    "* [Real Python](https://www.facebook.com/LearnRealPython/)\n",
    "* [Python Developers](https://www.facebook.com/PythonDevelopers/)"
   ]
  },
  {
   "cell_type": "markdown",
   "metadata": {},
   "source": [
    "## Websites"
   ]
  },
  {
   "cell_type": "markdown",
   "metadata": {},
   "source": [
    "* [W3School Python](https://www.w3schools.com/python/default.asp)\n",
    "* [ipywidgets](https://ipywidgets.readthedocs.io/en/stable/)\n",
    "* [Jupyter Widgets](https://github.com/jupyter-widgets/)\n",
    "* [ipywidgets TH](https://th.ceadesc.org/article/how-to-create-buttons-in-jupyter-e178b9/)\n",
    "* [ภาษาPython](http://www.ayarafun.com/2009/08/basic-python-programming-part1/)\n",
    "* [Learn Python Programming](https://www.programiz.com/python-programming)\n",
    "* [numpy](https://numpy.org/)\n",
    "* [scipy](https://scipy.org/)\n",
    "* [python course.eu](https://python-course.eu/index.php)"
   ]
  },
  {
   "cell_type": "markdown",
   "metadata": {},
   "source": [
    "## Github"
   ]
  },
  {
   "cell_type": "markdown",
   "metadata": {},
   "source": [
    "* [Python 3 Boot Camp](https://github.com/Pierian-Data/Complete-Python-3-Bootcamp)\n",
    "* [Scientific Python Lecture](https://github.com/jrjohansson/scientific-python-lectures)\n",
    "* [PythonDataScienceHandbook](https://github.com/jakevdp/PythonDataScienceHandbook)\n",
    "* [Johansson's Numerical Python](https://github.com/Apress/numerical-python-second-ed)\n",
    "* [Tkinter](https://github.com/digitronik/tutorial-tkinter)\n",
    "* [Jupyter Widgets](https://github.com/jupyter-widgets/)\n",
    "* [Financial-Models-Numerical-Methods](https://github.com/cantaro86/Financial-Models-Numerical-Methods)"
   ]
  },
  {
   "cell_type": "code",
   "execution_count": null,
   "metadata": {},
   "outputs": [],
   "source": []
  }
 ],
 "metadata": {
  "kernelspec": {
   "display_name": "Python 3",
   "language": "python",
   "name": "python3"
  },
  "language_info": {
   "codemirror_mode": {
    "name": "ipython",
    "version": 3
   },
   "file_extension": ".py",
   "mimetype": "text/x-python",
   "name": "python",
   "nbconvert_exporter": "python",
   "pygments_lexer": "ipython3",
   "version": "3.8.1"
  }
 },
 "nbformat": 4,
 "nbformat_minor": 2
}
