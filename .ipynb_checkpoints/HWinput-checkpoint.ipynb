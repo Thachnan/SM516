{
 "cells": [
  {
   "cell_type": "markdown",
   "metadata": {},
   "source": [
    "# การบ้านแสดงรายละเอียดและตัวอย่างการใช้งานคำสั่ง input "
   ]
  },
  {
   "cell_type": "markdown",
   "metadata": {},
   "source": [
    "ฟังก์ชันการรับค่า(input function) หรือฟังก์ชันรับข้อมูล เป็นฟังก์ชันที่ทำหน้าที่รับข้อมูลเข้าสู่โปรแกรม โดยทั่วไปจะเป็นการรับข้อมูลเข้าจากแป้นคีย์บอร์ด \n",
    "ในภาษาไพทอนมีฟังก์ชันที่ใช้ในการรับข้อมูลหรือรับค่าที่ผู้ใช้โปรแกรมกดจากคีย์บอร์ด ตือฟังก์ชัน input()"
   ]
  },
  {
   "cell_type": "markdown",
   "metadata": {},
   "source": [
    "ข้อมูลที่ได้รับโดยทั่วไป มี 3 ชนิด ได้แก่ จำนวนเต็ม(int) จำนวนจริง(float) และ ข้อความ(string)"
   ]
  },
  {
   "cell_type": "markdown",
   "metadata": {},
   "source": [
    "### ข้อคำนึง"
   ]
  },
  {
   "cell_type": "markdown",
   "metadata": {},
   "source": [
    "คำสั่ง input()ใช้ในการรับข้อมูลเข้าสู่โปรแกรม โดยข้อมูลที่รับเข้ามานั้นจะถูกกำหนดเป็นอักขระ แม้ว่าผู้ป้อนข้อมูลจะพิมพ์ตัวเลขเข้าไปก็ตาม โปรแกรมจะมองตัวเลขนั้นเป็นอักขระซึ่งไม่สามารถนำไปใช้คำนวนทางคณิตศาสตร์ได้"
   ]
  },
  {
   "cell_type": "markdown",
   "metadata": {},
   "source": [
    "## รูปแบบการใช้คำสั่งรับค่า"
   ]
  },
  {
   "cell_type": "markdown",
   "metadata": {},
   "source": [
    "### การรับค่าข้อความ\n",
    "ตัวอย่างที่1<br>\n",
    "name = input()   $\\rightarrow$ รับค่าข้อความเข้าไปเก็บในตัวแปร name<br>\n",
    "output\n",
    "_  $\\rightarrow$  จะมี curser กระพริบกับรับข้อมมูล<br>\n",
    "หมายเหตุ สามารถตรวจสอบว่ามีการรับข้อมูลเข้าสู่โปรแกรมหรือไม่ ด้วยการทดลองแสดงผลค่าตัวแปรนั้นออกมา(ด้วยคำสั่ง print)"
   ]
  },
  {
   "cell_type": "markdown",
   "metadata": {},
   "source": [
    "### ตัวอย่างโปรแกรมรับค่าข้อความและแสดงผลออกทางหน้าจอ"
   ]
  },
  {
   "cell_type": "code",
   "execution_count": 2,
   "metadata": {},
   "outputs": [
    {
     "name": "stdout",
     "output_type": "stream",
     "text": [
      "daniel\n",
      "My name is  daniel\n",
      "kang\n",
      "My surname is  kang\n"
     ]
    }
   ],
   "source": [
    "name = input()\n",
    "print(\"My name is \",name)\n",
    "surname = input()\n",
    "print(\"My surname is \",surname)"
   ]
  },
  {
   "cell_type": "markdown",
   "metadata": {},
   "source": [
    "### การรับค่าตัวเลขจำนวนเต็ม\n",
    "ตัวอย่างที่ 2 <br>\n",
    "score = input()  $\\rightarrow$ รับค่าเข้าไปเก็บในตัวแปร score<br>\n",
    "score = int(score)  $\\rightarrow$   แปลงค่าที่รับเข้ามาเป็ยตัวเลขจำนวนเต็ม(integer)"
   ]
  },
  {
   "cell_type": "markdown",
   "metadata": {},
   "source": [
    "### ตัวอย่างโปรแกรมรับค่าตัวเลขจำนวนเต็มและแสดงผลออกทางหน้าจอ"
   ]
  },
  {
   "cell_type": "code",
   "execution_count": 3,
   "metadata": {},
   "outputs": [
    {
     "name": "stdout",
     "output_type": "stream",
     "text": [
      "1\n",
      "2\n",
      "Number1 =  1  and Number2 =  2\n"
     ]
    }
   ],
   "source": [
    "number1 = int(input())\n",
    "number2 = int(input())\n",
    "print(\"Number1 = \",number1,\" and Number2 = \",number2)"
   ]
  },
  {
   "cell_type": "markdown",
   "metadata": {},
   "source": [
    "### การรับค่าตัวเลขจำนวนจริง\n",
    "ตัวอย่างที่ 3 <br>\n",
    "gpa = input()  $\\rightarrow$  รับค่าเข้าไปเก็บในตัวแปร gpa <br>\n",
    "gpa = float(gpa)  $\\rightarrow$  แปลงค่าที่รับเข้ามาเป็ยตัวเลขจำนวนจริง(float)\n"
   ]
  },
  {
   "cell_type": "markdown",
   "metadata": {},
   "source": [
    "### ตัวอย่างโปรแกรมรับค่าตัวเลขจำนวนจริงและแสดงผลออกทางหน้าจอ"
   ]
  },
  {
   "cell_type": "code",
   "execution_count": 6,
   "metadata": {},
   "outputs": [
    {
     "name": "stdout",
     "output_type": "stream",
     "text": [
      "50\n",
      "My weight is  50.0\n",
      "164\n",
      "My height is  164.0\n"
     ]
    }
   ],
   "source": [
    "weight = float(input())\n",
    "print(\"My weight is \",weight)\n",
    "height = float(input())\n",
    "print(\"My height is \",height)"
   ]
  },
  {
   "cell_type": "markdown",
   "metadata": {},
   "source": [
    "## สิ่งที่ต้องมีเพิ่มเติมในการเขียนโปรแกรมที่มีการรับค่า\n",
    " \n",
    " * ควรมีข้อความบอกผู้ใช้งานโปรแกรมว่าควรจะทำอะไรหรือป้อนข้อมูลประเภทใด\n",
    "  - กรุณาพิมพ์ชื่อของคุณ : ธัชนันท์\n",
    "  - กรุณาพิมพ์เลขที่ของคุณ : 41\n",
    " * โดยสามารถพิมพ์ข้อความเพิ่มเติมที่ต้องการบอกผู้ใช้โปรแกรมได้ดังนี้\n",
    "  - name = input(\"กรุณาพิมพ์ชื่อของคุณ :\")\n",
    "  - number = int(input(\"กรุณาพิมพ์เลขที่ของคุณ :\"))"
   ]
  },
  {
   "cell_type": "markdown",
   "metadata": {},
   "source": [
    "### ตัวอย่างโปรแกรมรับค่าโดยแสดงข้อความอธิบายให้ผู้ใช้งานเข้าใจและแสดงผลออกทางหน้าจอ"
   ]
  },
  {
   "cell_type": "code",
   "execution_count": 7,
   "metadata": {},
   "outputs": [
    {
     "name": "stdout",
     "output_type": "stream",
     "text": [
      "Please input your name : ice\n",
      "Please input your number : 41\n",
      "Your name is  ice\n",
      "Your number is  41\n"
     ]
    }
   ],
   "source": [
    "name = input(\"Please input your name : \")\n",
    "no = int(input(\"Please input your number : \"))\n",
    "print(\"Your name is \",name)\n",
    "print(\"Your number is \",no)"
   ]
  },
  {
   "cell_type": "markdown",
   "metadata": {},
   "source": [
    "### ตัวอย่างโปรแกรม\n",
    "* จงเขียนโปรแกรมคำนวณหาพื้นที่สี่เหลี่ยมผืนผ้า <br>\n",
    "วิธีคิด <br>\n",
    "  - ข้อมูลรับเข้า ได้แก่ ความกว้าง และ ความยาว ของสี่เหลี่ยมผืนผ้า\n",
    "  - การประมวลผล คำนวณหาค่าพื้นที่สี่เหลี่ยมผืนผ้าจากสูตร กว้าง x ยาว\n",
    "  - ข้อมูลส่งออก คือ พื้นที่สี่เหลี่ยมผืนผ้า"
   ]
  },
  {
   "cell_type": "code",
   "execution_count": 8,
   "metadata": {},
   "outputs": [
    {
     "name": "stdout",
     "output_type": "stream",
     "text": [
      "กรุณาใส่ความกว้าง (cm.) : 15\n",
      "กรุณาใส่ความยาว (cm.) : 5\n",
      "Area of Rectangle is  75.0\n"
     ]
    }
   ],
   "source": [
    "width = float(input(\"กรุณาใส่ความกว้าง (cm.) : \"))\n",
    "long = float(input(\"กรุณาใส่ความยาว (cm.) : \"))\n",
    "area = width * long\n",
    "print(\"Area of Rectangle is \",area)"
   ]
  },
  {
   "cell_type": "code",
   "execution_count": null,
   "metadata": {},
   "outputs": [],
   "source": []
  }
 ],
 "metadata": {
  "kernelspec": {
   "display_name": "Python 3",
   "language": "python",
   "name": "python3"
  },
  "language_info": {
   "codemirror_mode": {
    "name": "ipython",
    "version": 3
   },
   "file_extension": ".py",
   "mimetype": "text/x-python",
   "name": "python",
   "nbconvert_exporter": "python",
   "pygments_lexer": "ipython3",
   "version": "3.8.1"
  }
 },
 "nbformat": 4,
 "nbformat_minor": 2
}
