{
 "cells": [
  {
   "cell_type": "markdown",
   "metadata": {},
   "source": [
    "# SM516การโปรแกรมขั้นสูง"
   ]
  },
  {
   "cell_type": "markdown",
   "metadata": {},
   "source": [
    "<img src=\"images/Thachnan.jpg\" width=200 align=\"right\">"
   ]
  },
  {
   "cell_type": "markdown",
   "metadata": {},
   "source": [
    "<div align=\"right\">ธัชนันท์ ติรสุวรรณวาสี<br>วิศวกรรมการเงิน มกค.<br>๑๑ มกราคม ๒๕๖๓</div>"
   ]
  },
  {
   "cell_type": "code",
   "execution_count": 1,
   "metadata": {},
   "outputs": [
    {
     "data": {
      "image/jpeg": "[encoded data removed]",
      "text/html": [
       "\n",
       "        <iframe\n",
       "            width=\"400\"\n",
       "            height=\"300\"\n",
       "            src=\"https://www.youtube.com/embed/_-QY40Reub8\"\n",
       "            frameborder=\"0\"\n",
       "            allowfullscreen\n",
       "        ></iframe>\n",
       "        "
      ],
      "text/plain": [
       "<IPython.lib.display.YouTubeVideo at 0x1f5bb596848>"
      ]
     },
     "execution_count": 1,
     "metadata": {},
     "output_type": "execute_result"
    }
   ],
   "source": [
    "from IPython.lib.display import YouTubeVideo\n",
    "YouTubeVideo('_-QY40Reub8')"
   ]
  },
  {
   "cell_type": "markdown",
   "metadata": {},
   "source": [
    "## การวัดผล\n",
    "1. กิจกรรมในห้องเรียน 40%\n",
    "   * สมุดจด 30%\n",
    "   * การโปรแกรม 10%\n",
    "* การบ้าน 20% $\\rightarrow$ จัดเก็บลงบน **flashdrive** ส่งในวันสอบปลายภาค\n",
    "* สอบปลายภาด 60% (ได้คะแนนน้อยกว่า 15% ให้เรียนใหม่)"
   ]
  },
  {
   "cell_type": "markdown",
   "metadata": {},
   "source": [
    "## การติดตั้งโปรแกรม\n",
    "\n",
    "1. [WinPython](https://winpython.github.io/)\n",
    "![](https://winpython.github.io/images/winpython_title.png)"
   ]
  },
  {
   "cell_type": "markdown",
   "metadata": {},
   "source": [
    "## เนื้อหา\n",
    "\n",
    "* Python\n",
    "   - Installation\n",
    "   - Jupyter notebooj\n",
    "       - Mankdown\n",
    "          - Markdown\n",
    "          - Html\n",
    "          - LaTax\n",
    "   - Object Oriented Programming (OOP)\n",
    "       - Object\n",
    "          - Single Object\n",
    "          - Container\n",
    "        - Expression\n",
    "          - Operators\n",
    "          - Repetition\n",
    "        - Commands\n",
    "          - Conditions\n",
    "          - Repetition\n",
    "        - Module\n",
    "          - Packages\n",
    "              - math and cmath\n",
    "              - numpy\n",
    "              - matplotlib\n",
    "              - pandas\n",
    "              - sympy\n",
    "        - Program\n",
    "          - Jupyter notebook/Jupter Lab\n",
    "          - vscode\n",
    "          - pyCharm\n",
    " * Repository and Code Version Control (GitHub)\n",
    " * Python for Finance\n",
    " * Python for Statistics\n",
    " \n",
    " * R Programming"
   ]
  },
  {
   "cell_type": "markdown",
   "metadata": {},
   "source": [
    "## เอกสารอ้างอิง\n",
    "\n",
    "* หนังสือหลักสำหรับ Python คือ Mark Lutz [Learning Python, 5th Edition](https://www.amazon.com/Learning-Python-5th-Mark-Lutz/dp/1449355730)\n",
    "* (https://learning-python.com/class/Workbook/)\n",
    "       -[local copy](Pythonmarkluz)\n",
    "       -"
   ]
  },
  {
   "cell_type": "markdown",
   "metadata": {},
   "source": [
    "$\\alpha$ bdzzkbczbczkd\n",
    "\n",
    "$$ ax^2 +bx +c =0 \\tag{1}$$\n"
   ]
  },
  {
   "cell_type": "markdown",
   "metadata": {},
   "source": [
    "$$x = \\frac{-b \\pm \\sqrt{b^2 - 4ac}}{2a} \\tag{2}$$"
   ]
  },
  {
   "cell_type": "markdown",
   "metadata": {},
   "source": [
    "$$\n",
    "\\left[\n",
    "\\begin{array}{rrr}\n",
    "-1 & 0 & 1 \\\\\n",
    "-2 & -3 & 4 \\\\\n",
    "3 & 12 & 256 \\\\\n",
    "\\end{array}\n",
    "\\right]\n",
    "\\left[\n",
    "\\begin{array}{c}\n",
    "x \\\\ y \\\\ z\n",
    "\\end{array}\n",
    "\\right]\n",
    "=\n",
    "\\left[\n",
    "\\begin{array}{1}\n",
    "8 \\\\ 7 \\\\ 12\n",
    "\\end{array}\n",
    "\\right]\n",
    "\\tag{3}\n",
    "$$"
   ]
  },
  {
   "cell_type": "markdown",
   "metadata": {},
   "source": [
    "<u>เอกสาร<u>"
   ]
  },
  {
   "cell_type": "code",
   "execution_count": null,
   "metadata": {},
   "outputs": [],
   "source": []
  }
 ],
 "metadata": {
  "kernelspec": {
   "display_name": "Python 3",
   "language": "python",
   "name": "python3"
  },
  "language_info": {
   "codemirror_mode": {
    "name": "ipython",
    "version": 3
   },
   "file_extension": ".py",
   "mimetype": "text/x-python",
   "name": "python",
   "nbconvert_exporter": "python",
   "pygments_lexer": "ipython3",
   "version": "3.7.6"
  }
 },
 "nbformat": 4,
 "nbformat_minor": 2
}
