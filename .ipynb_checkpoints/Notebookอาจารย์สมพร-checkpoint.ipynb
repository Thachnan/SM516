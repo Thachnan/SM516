{
 "cells": [
  {
   "cell_type": "markdown",
   "metadata": {},
   "source": [
    "# Chapter 1 : Optimization Problems"
   ]
  },
  {
   "cell_type": "markdown",
   "metadata": {},
   "source": [
    "## Introduction  \n",
    ": Optimization problem deal with finding the best way to do a problems. Subject to my constraints or restrietion on the action that may be taken to accomplish the task. Many problems can be posed as optimization problems."
   ]
  },
  {
   "cell_type": "markdown",
   "metadata": {},
   "source": [
    "## Examples of optimization problems\n",
    "* Choosing an investing portfolio to minimite risk or to maximize its return.\n",
    "* maximizing the profit obtained from selling different products.\n",
    "* the design of the shape of an aircraft to maximize the aircraft performance of minimize the constration cost. "
   ]
  },
  {
   "cell_type": "markdown",
   "metadata": {},
   "source": [
    "## The standard for of the optimization problems\n",
    " $  Minmize  f(x̄) , x̄ ∈ R^n  Subject to x̄ ∈ Ω $ \n",
    " when x̄ is a column vector with n elements and  $ x̄^T $ is a row vector."
   ]
  },
  {
   "cell_type": "markdown",
   "metadata": {},
   "source": [
    "$$ x̄ =\n",
    "\\left[\n",
    "\\begin{array}{rrr}\n",
    "X_1  \\\\\n",
    "X_2 \\\\\n",
    ".\\\\\n",
    ".\\\\\n",
    ".\\\\\n",
    "X_n \\\\\n",
    "\\end{array}\n",
    "\\right]\n",
    "= x̄^T =\n",
    "\\left[\n",
    "\\begin{array}{rrr}\n",
    "X_1 & X_2 & . & . & . & X_n \\\\\n",
    "\\end{array}\n",
    "\\right]\n",
    "$$\n"
   ]
  },
  {
   "cell_type": "markdown",
   "metadata": {},
   "source": [
    "or $$ x̄ =\n",
    "\\left[\n",
    "\\begin{array}{rrr}\n",
    "X_1  \\\\\n",
    "X_2 \\\\\n",
    ".\\\\\n",
    ".\\\\\n",
    ".\\\\\n",
    "X_n \\\\\n",
    "\\end{array}\n",
    "\\right]\n",
    " =\n",
    "\\left[\n",
    "\\begin{array}{rrr}\n",
    "X_1 & X_2 & . & . & . & X_n \\\\ \n",
    "\\end{array}\n",
    "\\right]^T\n",
    "$$"
   ]
  },
  {
   "cell_type": "markdown",
   "metadata": {},
   "source": [
    "## The Euclidean length "
   ]
  },
  {
   "cell_type": "markdown",
   "metadata": {},
   "source": [
    "$ ||x̄|| of x̄ ∈ R^n $ is $ ||x̄|| = (∑^n_{i=1} X_i^2)^{1/2}  = ||x̄||_2(nrom_2) $"
   ]
  },
  {
   "cell_type": "markdown",
   "metadata": {},
   "source": [
    "The function f(x̄) is called the objective function.The set Ω is a subset of n dimensional Eueliean space $$ R^n(Ω x̄ R^n) $$ called \"the feasible region\".  "
   ]
  },
  {
   "cell_type": "markdown",
   "metadata": {},
   "source": [
    "If Ω consits of all point $ x̄ ∈ R^n $ which satisfiy all the constrcints $ (Ω = R^n) $,than the problem is unconstrained If $ (Ω ∈ R^n) $,than the problem is constrained. Any problem posed as maximization problem can be coverted to be a minimization problem by changing the sign of the objective function. "
   ]
  },
  {
   "cell_type": "markdown",
   "metadata": {},
   "source": [
    "## The Problem\n",
    ": max f(x̄)        $\\rightarrow$              min -f(x̄)<br>\n",
    "  subject to x̄ ∈ Ω   $\\rightarrow$          subject to x̄ ∈ Ω<br>\n",
    "  when max f(x̄) and min -f(x̄) have the same solution."
   ]
  },
  {
   "cell_type": "markdown",
   "metadata": {},
   "source": [
    "## The feasible regimΩ"
   ]
  },
  {
   "cell_type": "markdown",
   "metadata": {},
   "source": [
    "Ω ={ $ x̄ ∈ ∀ R^n $ | ei(x̄) = 0 ,∀i ∈ E (Equlity constraints)<br>ei(x̄) = 0 ,∀i ∈ I (Inequlity constraints)}\n",
    "<br>min f(x̄) , $ x̄ ∈ ∀ R^n $<br>subject to e_i(x̄) = 0 ,i = 1,2,...,m<br>ei(x̄) ≤ 0 ,i = 1,2,...,n"
   ]
  },
  {
   "cell_type": "markdown",
   "metadata": {},
   "source": [
    "## <u>Ex1.<u> (Post office parcel problem)"
   ]
  },
  {
   "cell_type": "markdown",
   "metadata": {},
   "source": [
    "The length plus the girth of any parcel sent throngh the post must not exceed 1.8 meters and length as the distance perpendicular to the length around the parcel.What are the dimension of the parcel with rectangular sides of the largest volume that could be sent throngh the post ?"
   ]
  },
  {
   "cell_type": "markdown",
   "metadata": {},
   "source": [
    "Let  X_1 = length<br> X_2 = width<br>X_3 = depth"
   ]
  },
  {
   "cell_type": "markdown",
   "metadata": {},
   "source": [
    " Max volume $ f(x̄) = X_1 X_2 X_3 $   <br>\n",
    "Subject to  $ X_1 + 2X_2 + 2X_3 ≤  1.8  $ (meters)<br>\n",
    "            $  X_1,X_2,X_3  ≥  0 $ <br>\n",
    "Maximize   Max $ f(x̄) = X_1 X_2 X_3 $   $\\rightarrow$     Min $ f(x̄) = -X_1 X_2 X_3 $ <br>\n",
    "Subject to  $  X_1 + 2X_2 + 2X_3 ≤  1.8 $ $\\rightarrow$  Subject to $ C1 : X_1 + 2X_2 + 2X_3 - 1.8 ≤ 0 $ <br>\n",
    "$ X_1 ≥ 0, X_2 ≥ 0, X_3 ≥ 0 ,X_2 ≤ X_1 ,X_3 ≤ X_1 $ $\\rightarrow$  $ C2:-X_1≤0 , C3:-X_2≤0 ,C4:-X_3≤0 ,C5:X_2-X_1≤0 ,C6:X_3-X_1≤0 $"
   ]
  },
  {
   "cell_type": "markdown",
   "metadata": {},
   "source": [
    "## <u>Ex2.<u> (Portfolio Optimization) (โจทย์ในชีท)"
   ]
  },
  {
   "cell_type": "markdown",
   "metadata": {},
   "source": [
    "Let  X_1 = percontage of assets aer allocated to the property trust.<br>\n",
    "X_2 = percontage of assets are allocated to the share trust and $ 0 ≤ X_1 ≤ 1 $ , $ i = 1,2  $ and $ X_1 + X_2 ≤ 1 $<br>\n",
    "constraints : $ 0.2 ≤ X_1 ≤ 0.8    ,0.1 ≤ X_2 ≤1 $  , $ x̄ =\n",
    "\\left[\n",
    "\\begin{array}{rrr}\n",
    "X_1  \\\\\n",
    "X_2 \\\\\n",
    "\\end{array}\n",
    "\\right] $\n"
   ]
  },
  {
   "cell_type": "markdown",
   "metadata": {},
   "source": [
    "The feasible region : Ω <br>\n",
    "$ Ω = {{ x̄ ∈ R^n| \\left[\n",
    "\\begin{array}{rrr}\n",
    "0.2  \\\\\n",
    "0.1 \\\\\n",
    "\\end{array}\n",
    "\\right]} ≤ x̄ ≤  \\left[\n",
    "\\begin{array}{rrr}\n",
    "0.8  \\\\\n",
    "1 \\\\\n",
    "\\end{array}\n",
    "\\right]}, X_1 + X_2 ≤ 1  $"
   ]
  },
  {
   "cell_type": "markdown",
   "metadata": {},
   "source": [
    "## 1.1) Maximize the expected return\n",
    "* Expected Return is $ 0.05X_1 + 0.12X_2 = r^T_x̄   column  r =  \\left[\n",
    "\\begin{array}{rrr}\n",
    "0.05  \\\\\n",
    "0.12 \\\\\n",
    "\\end{array}\n",
    "\\right] and  x̄ =  \\left[\n",
    "\\begin{array}{rrr}\n",
    "X_1  \\\\\n",
    "X_2 \\\\\n",
    "\\end{array}\n",
    "\\right] $  $\\rightarrow$  $ r^Tx̄ = x̄^Tr  =  \\left[\n",
    "\\begin{array}{rrr}\n",
    "X_1 & X_2  \\\\\n",
    "\\end{array}\n",
    "\\right] \\left[\n",
    "\\begin{array}{rrr}\n",
    "0.05  \\\\\n",
    "0.12 \\\\\n",
    "\\end{array}\n",
    "\\right]  = 0.05X_1 + 0.12X_2 $\n",
    "\n",
    "* Optimizatiom problme :<br>\n",
    "Max $ F_r(x̄) = x̄^Tr  ,  x̄ ∈ R^n $ <br>\n",
    "Subject to $ x̄ ∈ Ω $\n",
    "                        "
   ]
  },
  {
   "cell_type": "markdown",
   "metadata": {},
   "source": [
    "## 1.2) Minimize Risk\n",
    "* The risk of the investment portfolio , as ruesured by the variance of the portfolio is "
   ]
  },
  {
   "cell_type": "markdown",
   "metadata": {},
   "source": [
    "$$ x̄^Tx̄ = \\left[\n",
    "\\begin{array}{rrr}\n",
    "X_1 & X_2 \\\\\n",
    "\\end{array}\n",
    "\\right] \n",
    "\\left[\n",
    "\\begin{array}{rrr}\n",
    "0.3 & -0.2  \\\\\n",
    "0.2 & 0.45 \\\\\n",
    "\\end{array}\n",
    "\\right]\n",
    "\\left[\n",
    "\\begin{array}{rrr}\n",
    "X_1  \\\\\n",
    "X_2 \\\\\n",
    "\\end{array}\n",
    "\\right]\n",
    "= \\left[\n",
    "\\begin{array}{rrr}\n",
    "0.3X_1 -0.2X_2-0.2X_1+0.45X_2 \\\\\n",
    "\\end{array}\n",
    "\\right]\n",
    "\\left[\n",
    "\\begin{array}{rrr}\n",
    "X_1  \\\\\n",
    "X_2 \\\\\n",
    "\\end{array}\n",
    "\\right]\n",
    "= 0.3X_1^2 + 0.45X_2^2 - 0.4X_1X_2 $$<br>\n",
    "As all constraints are linear and objectives function is qucdratic , this is qucdratic programming problem."
   ]
  },
  {
   "cell_type": "markdown",
   "metadata": {},
   "source": [
    "## 1.3)The invester has 2 completing objectives :\n",
    "* to wish maximize their returns while at the same time miniming their risk.\n",
    "* This is cm example of multi-objectives when the weight are nonnegative and add up to 1. This gives <br>\n",
    " $ α_1f_r(x̄) + α_2f_c(x̄) $ where  $ α_1 ≥ 0, α_2 ≥ 0 $ and $ α_1 + α_2 = 1$  $\\rightarrow$ $ α_1 = 1 - α_2 $<br>\n",
    " Min $ f_β( \\bar x) = -βf_r(\\bar x) + (1 - β)f_c(\\bar x) $<br> = $ -β\\bar x^T_r + (1 - β)\\bar x^TC\\bar x $<br> Subject to $ = x̄ ∈ Ω  $"
   ]
  },
  {
   "cell_type": "code",
   "execution_count": null,
   "metadata": {},
   "outputs": [],
   "source": []
  }
 ],
 "metadata": {
  "kernelspec": {
   "display_name": "Python 3",
   "language": "python",
   "name": "python3"
  },
  "language_info": {
   "codemirror_mode": {
    "name": "ipython",
    "version": 3
   },
   "file_extension": ".py",
   "mimetype": "text/x-python",
   "name": "python",
   "nbconvert_exporter": "python",
   "pygments_lexer": "ipython3",
   "version": "3.7.6"
  }
 },
 "nbformat": 4,
 "nbformat_minor": 2
}
