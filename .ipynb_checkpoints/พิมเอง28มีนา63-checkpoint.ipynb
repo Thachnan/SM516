{
 "cells": [
  {
   "cell_type": "markdown",
   "metadata": {},
   "source": [
    "### ชุดตัวอักษร(strings) $\\to$วัตถุ(Objects)$\\to$ Tuple"
   ]
  },
  {
   "cell_type": "code",
   "execution_count": 1,
   "metadata": {},
   "outputs": [
    {
     "data": {
      "text/plain": [
       "'ในปี 2020 ,เหตุการณ์สำคัญคือ การระบาดของไวรัสโควิด-19'"
      ]
     },
     "execution_count": 1,
     "metadata": {},
     "output_type": "execute_result"
    }
   ],
   "source": [
    "'''รูปแบบ (format) การให้ค่า (literal)ของชุดตัวอักษร\n",
    "   ใช้ f หรือ F นำหน้า''' #docstring\n",
    "ปี = 2020\n",
    "เหตุการณ์ = 'การระบาดของไวรัสโควิด-19'\n",
    "f'ในปี {ปี} ,เหตุการณ์สำคัญคือ {เหตุการณ์}'"
   ]
  },
  {
   "cell_type": "code",
   "execution_count": 2,
   "metadata": {},
   "outputs": [
    {
     "data": {
      "text/plain": [
       "'ในปี2020เหตุการณ์สำคัญคือการระบาดของไวรัสโควิด-19'"
      ]
     },
     "execution_count": 2,
     "metadata": {},
     "output_type": "execute_result"
    }
   ],
   "source": [
    "'''ใช้ชุดตัวอักษร รวมกัน (string concatenation)'''\n",
    "'ในปี'+str(ปี)+'เหตุการณ์สำคัญคือ'+เหตุการณ์"
   ]
  },
  {
   "cell_type": "code",
   "execution_count": 3,
   "metadata": {},
   "outputs": [
    {
     "ename": "TypeError",
     "evalue": "unsupported operand type(s) for /: 'int' and 'tuple'",
     "output_type": "error",
     "traceback": [
      "\u001b[1;31m---------------------------------------------------------------------------\u001b[0m",
      "\u001b[1;31mTypeError\u001b[0m                                 Traceback (most recent call last)",
      "\u001b[1;32m<ipython-input-3-520afe901c40>\u001b[0m in \u001b[0;36m<module>\u001b[1;34m\u001b[0m\n\u001b[0;32m      3\u001b[0m \u001b[0mno_votes\u001b[0m \u001b[1;33m=\u001b[0m \u001b[1;36m43\u001b[0m\u001b[1;33m+\u001b[0m\u001b[1;36m132\u001b[0m\u001b[1;33m+\u001b[0m\u001b[1;36m495\u001b[0m\u001b[1;33m\u001b[0m\u001b[1;33m\u001b[0m\u001b[0m\n\u001b[0;32m      4\u001b[0m \u001b[1;33m\u001b[0m\u001b[0m\n\u001b[1;32m----> 5\u001b[1;33m \u001b[0mpercentage\u001b[0m \u001b[1;33m=\u001b[0m \u001b[0myes_votes\u001b[0m \u001b[1;33m/\u001b[0m \u001b[1;33m(\u001b[0m\u001b[1;33m)\u001b[0m\u001b[1;33m\u001b[0m\u001b[1;33m\u001b[0m\u001b[0m\n\u001b[0m",
      "\u001b[1;31mTypeError\u001b[0m: unsupported operand type(s) for /: 'int' and 'tuple'"
     ]
    }
   ],
   "source": [
    "'''ตัวเลข แยกด้วย _'''\n",
    "yes_votes = 42_572_654\n",
    "no_votes = 43+132+495\n",
    "\n",
    "percentage = yes_votes / ()"
   ]
  },
  {
   "cell_type": "markdown",
   "metadata": {},
   "source": [
    "### คำสั่ง print() พิมพ์ชุดอักษร"
   ]
  },
  {
   "cell_type": "markdown",
   "metadata": {},
   "source": [
    "NB. คำสั่ง print ใน "
   ]
  },
  {
   "cell_type": "code",
   "execution_count": null,
   "metadata": {},
   "outputs": [],
   "source": []
  },
  {
   "cell_type": "code",
   "execution_count": 4,
   "metadata": {},
   "outputs": [
    {
     "data": {
      "text/plain": [
       "1"
      ]
     },
     "execution_count": 4,
     "metadata": {},
     "output_type": "execute_result"
    }
   ],
   "source": [
    "5%4"
   ]
  },
  {
   "cell_type": "markdown",
   "metadata": {},
   "source": [
    "### จัดรูปแบบกับช่อง"
   ]
  },
  {
   "cell_type": "code",
   "execution_count": 6,
   "metadata": {},
   "outputs": [
    {
     "data": {
      "text/plain": [
       "'ใช้ %s ในการฉีด (inject) ชุดตัวอักษร เข้าไป modulo % คือ string formatting operator '"
      ]
     },
     "execution_count": 6,
     "metadata": {},
     "output_type": "execute_result"
    }
   ],
   "source": [
    "'''ใช้ %s ในการฉีด (inject) ชุดตัวอักษร เข้าไป modulo % คือ string formatting operator '''\n",
    "print('')"
   ]
  },
  {
   "cell_type": "code",
   "execution_count": 8,
   "metadata": {},
   "outputs": [
    {
     "ename": "NameError",
     "evalue": "name 'ฉีด1' is not defined",
     "output_type": "error",
     "traceback": [
      "\u001b[1;31m---------------------------------------------------------------------------\u001b[0m",
      "\u001b[1;31mNameError\u001b[0m                                 Traceback (most recent call last)",
      "\u001b[1;32m<ipython-input-8-153fee134e84>\u001b[0m in \u001b[0;36m<module>\u001b[1;34m\u001b[0m\n\u001b[0;32m      1\u001b[0m \u001b[1;34m'''ใช้เป็นตัวแปรก็ได้'''\u001b[0m\u001b[1;33m\u001b[0m\u001b[1;33m\u001b[0m\u001b[0m\n\u001b[1;32m----> 2\u001b[1;33m \u001b[0mฉ\u001b[0m\u001b[0;31mี\u001b[0m\u001b[0mด1\u001b[0m\u001b[1;33m\u001b[0m\u001b[1;33m\u001b[0m\u001b[0m\n\u001b[0m\u001b[0;32m      3\u001b[0m \u001b[0mprint\u001b[0m\u001b[1;33m(\u001b[0m\u001b[1;34m''\u001b[0m\u001b[1;33m)\u001b[0m\u001b[1;33m\u001b[0m\u001b[1;33m\u001b[0m\u001b[0m\n",
      "\u001b[1;31mNameError\u001b[0m: name 'ฉีด1' is not defined"
     ]
    }
   ],
   "source": [
    "'''ใช้เป็นตัวแปรก็ได้'''\n",
    "ฉีด1\n",
    "print('')"
   ]
  },
  {
   "cell_type": "markdown",
   "metadata": {},
   "source": [
    "### การเปลี่ยนรูปแบบเพื่อการพิมพ์"
   ]
  },
  {
   "cell_type": "markdown",
   "metadata": {},
   "source": [
    "* %s ใช้ method str() - string\n",
    "* %r ใช้ method repr() - represention"
   ]
  },
  {
   "cell_type": "code",
   "execution_count": 10,
   "metadata": {},
   "outputs": [
    {
     "name": "stdout",
     "output_type": "stream",
     "text": [
      "เธอบอกว่าแฟนเธอชื่อ แดเนียล\n"
     ]
    }
   ],
   "source": [
    "print('เธอบอกว่าแฟนเธอชื่อ %s'%'แดเนียล')"
   ]
  },
  {
   "cell_type": "markdown",
   "metadata": {},
   "source": [
    "* %d รูปแบบตัวเลขเป็นจำนวนเต็ม(integer)"
   ]
  },
  {
   "cell_type": "markdown",
   "metadata": {},
   "source": [
    "### ขยายและความแม่นยำของตัวเลข"
   ]
  },
  {
   "cell_type": "markdown",
   "metadata": {},
   "source": [
    "* %a.bf\n",
    "  * a คือจำนวนน้อยที่สุดของจำนวนตัวอักษรที่ใส่เข้ามา ถ้าใส่มาน้อยกว่าจะเป็นช่องว่างแทน\n",
    "  * b จนวนตัวเลขทศนิยมหลังจุด "
   ]
  },
  {
   "cell_type": "code",
   "execution_count": 12,
   "metadata": {},
   "outputs": [
    {
     "name": "stdout",
     "output_type": "stream",
     "text": [
      "ไอซ์เป็นหนี้แดน 12.35 ล้านบาท\n"
     ]
    }
   ],
   "source": [
    "print('ไอซ์เป็นหนี้แดน %5.2f ล้านบาท'%(12.345))   # a คือ 5 ช่อง - ไม่มีspacebar"
   ]
  },
  {
   "cell_type": "code",
   "execution_count": 13,
   "metadata": {},
   "outputs": [
    {
     "name": "stdout",
     "output_type": "stream",
     "text": [
      "ไอซ์เป็นหนี้แดน 12 ล้านบาท\n"
     ]
    }
   ],
   "source": [
    "print('ไอซ์เป็นหนี้แดน %1.0f ล้านบาท'%(12.345))    # a มี 1 - ไม่มีspacebar"
   ]
  },
  {
   "cell_type": "code",
   "execution_count": 14,
   "metadata": {},
   "outputs": [
    {
     "name": "stdout",
     "output_type": "stream",
     "text": [
      "ไอซ์เป็นหนี้แดน 12.345000 ล้านบาท\n"
     ]
    }
   ],
   "source": [
    "print('ไอซ์เป็นหนี้แดน %1.6f ล้านบาท'%(12.345))  "
   ]
  },
  {
   "cell_type": "code",
   "execution_count": 17,
   "metadata": {},
   "outputs": [
    {
     "name": "stdout",
     "output_type": "stream",
     "text": [
      "ไอซ์เป็นหนี้แดน      12.35 ล้านบาท\n"
     ]
    }
   ],
   "source": [
    "print('ไอซ์เป็นหนี้แดน %10.2f ล้านบาท'%(12.345))   # a คือ 10 (ตัวเลขทั้งหมด2+1+2 = 5) มีช่องว่าง = 10-5"
   ]
  },
  {
   "cell_type": "code",
   "execution_count": 16,
   "metadata": {},
   "outputs": [
    {
     "name": "stdout",
     "output_type": "stream",
     "text": [
      "ไอซ์เป็นหนี้แดน                12.35 ล้านบาท\n"
     ]
    }
   ],
   "source": [
    "print('ไอซ์เป็นหนี้แดน %20.2f ล้านบาท'%(12.345))    # a คือ 20 (ตัวเลขทั้งหมด2+1+2 = 5) มีช่องว่าง = 20-5"
   ]
  },
  {
   "cell_type": "markdown",
   "metadata": {},
   "source": [
    "### หลากหลายรูปแบบ"
   ]
  },
  {
   "cell_type": "code",
   "execution_count": 18,
   "metadata": {},
   "outputs": [
    {
     "name": "stdout",
     "output_type": "stream",
     "text": [
      "นางเอกชื่อ แก้วมณี มีเงิน  2.56 ล้านบาท สถานภาพ 'ยังโสด'\n"
     ]
    }
   ],
   "source": [
    "print('นางเอกชื่อ %s มีเงิน %5.2f ล้านบาท สถานภาพ %r'%('แก้วมณี',2.5555,'ยังโสด'))"
   ]
  },
  {
   "cell_type": "markdown",
   "metadata": {},
   "source": [
    "## 2.จัดรูปกับ .foemat()method"
   ]
  },
  {
   "cell_type": "markdown",
   "metadata": {},
   "source": [
    "รูปแบบ:'ชุดตัวอักษร{} และ {}'.format('อย่างที่1','อย่างที่2')"
   ]
  },
  {
   "cell_type": "code",
   "execution_count": 19,
   "metadata": {},
   "outputs": [
    {
     "name": "stdout",
     "output_type": "stream",
     "text": [
      "โควิดฉีดด้วยไม่รู้\n"
     ]
    }
   ],
   "source": [
    "print('โควิดฉีดด้วย{}'.format('ไม่รู้'))"
   ]
  },
  {
   "cell_type": "markdown",
   "metadata": {},
   "source": [
    "### วิธี.format() method ดีกว่าวิธีจักรูปตามช่อง"
   ]
  },
  {
   "cell_type": "markdown",
   "metadata": {},
   "source": [
    "#### 1.วัตถุที่ใส่เข้าไปสามารถชี้ตำแหน่ง"
   ]
  },
  {
   "cell_type": "code",
   "execution_count": null,
   "metadata": {},
   "outputs": [],
   "source": [
    "print('ลำดับความหล่อ ')"
   ]
  },
  {
   "cell_type": "markdown",
   "metadata": {},
   "source": [
    "#### 2.วัตถุที่ใส่เข้าไปสามารถ"
   ]
  },
  {
   "cell_type": "code",
   "execution_count": null,
   "metadata": {},
   "outputs": [],
   "source": []
  },
  {
   "cell_type": "markdown",
   "metadata": {},
   "source": [
    "#### 3.วัตถุที่ใส่เข้าไปสามารถนำมาใช้ซ้ำ"
   ]
  },
  {
   "cell_type": "code",
   "execution_count": null,
   "metadata": {},
   "outputs": [],
   "source": []
  },
  {
   "cell_type": "markdown",
   "metadata": {},
   "source": [
    "### การจัดวาง ขยาย และความแม่นยำกับ.format()"
   ]
  },
  {
   "cell_type": "code",
   "execution_count": 20,
   "metadata": {},
   "outputs": [
    {
     "name": "stdout",
     "output_type": "stream",
     "text": [
      "Name         | Marking | No      |      20 |\n",
      "Thachnan     |  3.1234\n",
      "Daniel       |     2.0\n"
     ]
    }
   ],
   "source": [
    "print('{0:12} | {1:7} | {2:7} | {3:7} |'.format('Name', 'Marking', 'No', 20))\n",
    "print('{0:12} | {1:7}'.format('Thachnan', 3.1234))\n",
    "print('{0:12} | {1:7}'.format('Daniel', 2.0))"
   ]
  },
  {
   "cell_type": "markdown",
   "metadata": {},
   "source": [
    "ใช้เครื่องหมายกำกับได้\n",
    " * < ชิดซ้าย\n",
    " * ^ จัดกลาง\n",
    " * '>ชิดขวา"
   ]
  },
  {
   "cell_type": "code",
   "execution_count": null,
   "metadata": {},
   "outputs": [],
   "source": [
    "print"
   ]
  },
  {
   "cell_type": "code",
   "execution_count": null,
   "metadata": {},
   "outputs": [],
   "source": []
  },
  {
   "cell_type": "code",
   "execution_count": null,
   "metadata": {},
   "outputs": [],
   "source": []
  },
  {
   "cell_type": "markdown",
   "metadata": {},
   "source": [
    "## 3. จัดรูปแบบการให้ค่าชุดตัวอักษร f-string"
   ]
  },
  {
   "cell_type": "code",
   "execution_count": null,
   "metadata": {},
   "outputs": [],
   "source": [
    "name = 'แดเนียล'\n",
    "\n",
    "print()"
   ]
  },
  {
   "cell_type": "code",
   "execution_count": null,
   "metadata": {},
   "outputs": [],
   "source": []
  },
  {
   "cell_type": "code",
   "execution_count": null,
   "metadata": {},
   "outputs": [],
   "source": []
  },
  {
   "cell_type": "code",
   "execution_count": null,
   "metadata": {},
   "outputs": [],
   "source": []
  },
  {
   "cell_type": "code",
   "execution_count": null,
   "metadata": {},
   "outputs": [],
   "source": []
  },
  {
   "cell_type": "code",
   "execution_count": null,
   "metadata": {},
   "outputs": [],
   "source": [
    "test3word = input(\"Tell me your lucky number: \")\n",
    "\n",
    "try:\n",
    "    test3num = int(test3word)\n",
    "    print(\"This is a valid number! Your lucky number is: \", test3num)\n",
    "except ValueError:\n",
    "    print(\"This is not a valid number. It isn't a number at all!\")\n",
    "    print(\"This is a string, go and try again. Better luck next time!\")"
   ]
  },
  {
   "cell_type": "code",
   "execution_count": null,
   "metadata": {},
   "outputs": [],
   "source": [
    "# Makes a function that will contain the\n",
    "# desired program.\n",
    "\n",
    "def example():\n",
    "\n",
    "    # Calls for an infinite loop that keeps executing\n",
    "    # until an exception occurs\n",
    "    while True:\n",
    "        test4word = input(\"What's your name? \")\n",
    "\n",
    "        try:\n",
    "            test4num = int(input(\"From 1 to 7, how many hours do you play in your mobile?\" ))\n",
    "\n",
    "        # If something else that is not the string\n",
    "        # version of a number is introduced, the\n",
    "        # ValueError exception will be called.\n",
    "        except ValueError:\n",
    "            # The cycle will go on until validation\n",
    "            print(\"Error! This is not a number. Try again.\")\n",
    "\n",
    "        # When successfully converted to an integer,\n",
    "        # the loop will end.\n",
    "        else:\n",
    "            print(\"Impressive, \", test4word, \"! You spent\", test4num*60, \n",
    "                  \"minutes or\", test4num*60*60, \"seconds in your mobile!\")\n",
    "            break\n",
    "\n",
    "# The function is called\n",
    "example()"
   ]
  },
  {
   "cell_type": "code",
   "execution_count": null,
   "metadata": {},
   "outputs": [],
   "source": [
    "example()"
   ]
  },
  {
   "cell_type": "code",
   "execution_count": null,
   "metadata": {},
   "outputs": [],
   "source": []
  }
 ],
 "metadata": {
  "kernelspec": {
   "display_name": "Python 3",
   "language": "python",
   "name": "python3"
  },
  "language_info": {
   "codemirror_mode": {
    "name": "ipython",
    "version": 3
   },
   "file_extension": ".py",
   "mimetype": "text/x-python",
   "name": "python",
   "nbconvert_exporter": "python",
   "pygments_lexer": "ipython3",
   "version": "3.8.1"
  }
 },
 "nbformat": 4,
 "nbformat_minor": 2
}
