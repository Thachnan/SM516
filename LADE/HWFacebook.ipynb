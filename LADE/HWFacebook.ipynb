{
 "cells": [
  {
   "cell_type": "code",
   "execution_count": 5,
   "metadata": {},
   "outputs": [
    {
     "data": {
      "text/plain": [
       "[('ICE', 'Kangdaniel', 'Peach'),\n",
       " ('ICE', 'Peach', 'Kangdaniel'),\n",
       " ('Kangdaniel', 'ICE', 'Peach'),\n",
       " ('Kangdaniel', 'Peach', 'ICE'),\n",
       " ('Peach', 'ICE', 'Kangdaniel'),\n",
       " ('Peach', 'Kangdaniel', 'ICE')]"
      ]
     },
     "execution_count": 5,
     "metadata": {},
     "output_type": "execute_result"
    }
   ],
   "source": [
    "# วิธีสร้างรายการเรียงสับเปลี่ยนทั้งหมดใน Python\n",
    "import itertools\n",
    "iter = itertools.permutations([\"ICE\", \"Kangdaniel\", \"Peach\"])\n",
    "list(iter)"
   ]
  },
  {
   "cell_type": "code",
   "execution_count": null,
   "metadata": {},
   "outputs": [],
   "source": []
  }
 ],
 "metadata": {
  "kernelspec": {
   "display_name": "Python 3",
   "language": "python",
   "name": "python3"
  },
  "language_info": {
   "codemirror_mode": {
    "name": "ipython",
    "version": 3
   },
   "file_extension": ".py",
   "mimetype": "text/x-python",
   "name": "python",
   "nbconvert_exporter": "python",
   "pygments_lexer": "ipython3",
   "version": "3.8.1"
  }
 },
 "nbformat": 4,
 "nbformat_minor": 2
}
